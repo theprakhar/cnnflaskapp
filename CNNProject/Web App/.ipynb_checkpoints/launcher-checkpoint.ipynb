{
 "cells": [
  {
   "cell_type": "code",
   "execution_count": 3,
   "metadata": {},
   "outputs": [],
   "source": [
    "\n",
    "import tensorflow as tf\n",
    "from PIL import Image\n",
    "from gevent.pywsgi import WSGIServer\n",
    "import requests\n",
    "from io import BytesIO\n",
    "\n",
    "global graph\n",
    "from keras import backend as K\n",
    "from keras.models import Sequential,load_model\n",
    "from skimage import io\n",
    "import numpy as np\n",
    "import skimage.transform as st\n",
    "from flask import Flask,render_template,url_for,request,jsonify\n",
    "np.random.seed(28) \n",
    "\n",
    "    \n",
    "app=Flask(__name__)\n",
    "\n",
    "class_names = ['airplane','automobile','bird','cat','deer',\n",
    "               'dog','frog','horse','ship','truck']\n",
    "graph = tf.get_default_graph()\n",
    "\n",
    "@app.route('/')\n",
    "def index():\n",
    "    return render_template(\"index.html\")\n",
    "    \n",
    "@app.route(\"/predict/\",methods=['GET','POST'])\n",
    "def predict():\n",
    "    clazz=\" \"\n",
    "    link=\" \"\n",
    "    if request.method==\"POST\":\n",
    "        try:\n",
    "            \n",
    "            link=request.form['image_location']\n",
    "            \n",
    "            testmodel = load_model(\"models/mode200epoch.h5\")\n",
    "            image = io.imread(link)\n",
    "        \n",
    "        #Apply same preprocessing used while training CNN model\n",
    "            image_small = st.resize(image, (32,32,3))\n",
    "            x = np.expand_dims(image_small.transpose(2, 0, 1), axis=0)\n",
    "            res=testmodel.predict(x)\n",
    "            fres=np.argmax(res)\n",
    "            claz=class_names[fres]\n",
    "            #print(classification)\n",
    "            #classindex=np.argmax(pred)\n",
    "            #classification=class_names[classindex]\n",
    "            #print(\"Class:\",classification)\n",
    "            clazz=\"It's a \"+claz+\".\"\n",
    "            print(claz)\n",
    "        except Exception as e:\n",
    "            claz=\" \"\n",
    "            link=\" \"\n",
    "            print(\"Exception\",e.__class__,\"Args:\",e.args,\"Doc:\",e.__doc__)\n",
    "            \n",
    "        \n",
    "        \n",
    "    return render_template(\"index.html\",outputz=clazz,location=link)\n",
    "\n",
    "\n",
    "\n",
    "\n"
   ]
  },
  {
   "cell_type": "code",
   "execution_count": 4,
   "metadata": {},
   "outputs": [
    {
     "name": "stdout",
     "output_type": "stream",
     "text": [
      " * Serving Flask app \"__main__\" (lazy loading)\n",
      " * Environment: production\n",
      "   WARNING: This is a development server. Do not use it in a production deployment.\n",
      "   Use a production WSGI server instead.\n",
      " * Debug mode: off\n"
     ]
    },
    {
     "name": "stderr",
     "output_type": "stream",
     "text": [
      " * Running on http://127.0.0.1:5000/ (Press CTRL+C to quit)\n",
      "127.0.0.1 - - [08/Nov/2019 21:48:52] \"\u001b[37mGET / HTTP/1.1\u001b[0m\" 200 -\n",
      "127.0.0.1 - - [08/Nov/2019 21:48:52] \"\u001b[37mGET / HTTP/1.1\u001b[0m\" 200 -\n",
      "127.0.0.1 - - [08/Nov/2019 21:49:57] \"\u001b[37mPOST /predict/ HTTP/1.1\u001b[0m\" 200 -\n"
     ]
    },
    {
     "name": "stdout",
     "output_type": "stream",
     "text": [
      "ship\n"
     ]
    },
    {
     "name": "stderr",
     "output_type": "stream",
     "text": [
      "127.0.0.1 - - [08/Nov/2019 21:49:57] \"\u001b[37mGET /predict/ HTTP/1.1\u001b[0m\" 200 -\n"
     ]
    }
   ],
   "source": [
    "app.run(debug=False)"
   ]
  }
 ],
 "metadata": {
  "kernelspec": {
   "display_name": "Python 3",
   "language": "python",
   "name": "python3"
  },
  "language_info": {
   "codemirror_mode": {
    "name": "ipython",
    "version": 3
   },
   "file_extension": ".py",
   "mimetype": "text/x-python",
   "name": "python",
   "nbconvert_exporter": "python",
   "pygments_lexer": "ipython3",
   "version": "3.7.4"
  }
 },
 "nbformat": 4,
 "nbformat_minor": 2
}
